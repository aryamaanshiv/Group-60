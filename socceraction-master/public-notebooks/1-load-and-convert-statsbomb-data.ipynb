{
 "cells": [
  {
   "cell_type": "markdown",
   "metadata": {},
   "source": [
    "**Disclaimer**: this notebook's compatibility with StatsBomb event data 4.0.0 was last checked on December 30th, 2023."
   ]
  },
  {
   "cell_type": "code",
   "execution_count": 1,
   "metadata": {
    "execution": {
     "iopub.execute_input": "2023-12-30T16:20:58.642745Z",
     "iopub.status.busy": "2023-12-30T16:20:58.642346Z",
     "iopub.status.idle": "2023-12-30T16:20:59.230358Z",
     "shell.execute_reply": "2023-12-30T16:20:59.229836Z"
    }
   },
   "outputs": [],
   "source": [
    "import os\n",
    "import warnings\n",
    "import pandas as pd\n",
    "pd.set_option('display.max_columns', None)\n",
    "warnings.simplefilter(action='ignore', category=pd.errors.PerformanceWarning)\n",
    "warnings.filterwarnings(action=\"ignore\", message=\"credentials were not supplied. open data access only\")\n",
    "import tqdm"
   ]
  },
  {
   "cell_type": "code",
   "execution_count": 2,
   "metadata": {
    "execution": {
     "iopub.execute_input": "2023-12-30T16:20:59.233155Z",
     "iopub.status.busy": "2023-12-30T16:20:59.232943Z",
     "iopub.status.idle": "2023-12-30T16:21:00.979524Z",
     "shell.execute_reply": "2023-12-30T16:21:00.979053Z"
    }
   },
   "outputs": [],
   "source": [
    "%load_ext autoreload\n",
    "%autoreload 2\n",
    "from socceraction.data.statsbomb import StatsBombLoader\n",
    "import socceraction.spadl as spadl"
   ]
  },
  {
   "cell_type": "markdown",
   "metadata": {},
   "source": [
    "## Set up the StatsBombLoader"
   ]
  },
  {
   "cell_type": "code",
   "execution_count": 3,
   "metadata": {
    "execution": {
     "iopub.execute_input": "2023-12-30T16:21:00.981790Z",
     "iopub.status.busy": "2023-12-30T16:21:00.981501Z",
     "iopub.status.idle": "2023-12-30T16:21:01.202737Z",
     "shell.execute_reply": "2023-12-30T16:21:01.202128Z"
    }
   },
   "outputs": [],
   "source": [
    "# Use this if you want to use the free public statsbomb data\n",
    "# or provide credentials to access the API\n",
    "SBL = StatsBombLoader(getter=\"remote\", creds={\"user\": None, \"passwd\": None})\n",
    "\n",
    "# # Uncomment the code below if you have a local folder on your computer with statsbomb data\n",
    "# datafolder = \"../data/statsbomb-epl-1718\" # Example of local folder with statsbomb data\n",
    "# SBL = StatsBombLoader(root=datafolder, getter=\"local\")"
   ]
  },
  {
   "cell_type": "code",
   "execution_count": 4,
   "metadata": {
    "execution": {
     "iopub.execute_input": "2023-12-30T16:21:01.205905Z",
     "iopub.status.busy": "2023-12-30T16:21:01.205479Z",
     "iopub.status.idle": "2023-12-30T16:21:01.574481Z",
     "shell.execute_reply": "2023-12-30T16:21:01.572064Z"
    }
   },
   "outputs": [
    {
     "data": {
      "text/plain": [
       "{'1. Bundesliga',\n",
       " 'Champions League',\n",
       " 'Copa del Rey',\n",
       " \"FA Women's Super League\",\n",
       " 'FIFA U20 World Cup',\n",
       " 'FIFA World Cup',\n",
       " 'Indian Super league',\n",
       " 'La Liga',\n",
       " 'Liga Profesional',\n",
       " 'Ligue 1',\n",
       " 'Major League Soccer',\n",
       " 'NWSL',\n",
       " 'North American League',\n",
       " 'Premier League',\n",
       " 'Serie A',\n",
       " 'UEFA Euro',\n",
       " 'UEFA Europa League',\n",
       " \"UEFA Women's Euro\",\n",
       " \"Women's World Cup\"}"
      ]
     },
     "execution_count": 4,
     "metadata": {},
     "output_type": "execute_result"
    }
   ],
   "source": [
    "# View all available competitions\n",
    "competitions = SBL.competitions()\n",
    "set(competitions.competition_name)"
   ]
  },
  {
   "cell_type": "code",
   "execution_count": 5,
   "metadata": {
    "execution": {
     "iopub.execute_input": "2023-12-30T16:21:01.621178Z",
     "iopub.status.busy": "2023-12-30T16:21:01.620988Z",
     "iopub.status.idle": "2023-12-30T16:21:01.651574Z",
     "shell.execute_reply": "2023-12-30T16:21:01.650889Z"
    }
   },
   "outputs": [
    {
     "data": {
      "text/html": [
       "<div>\n",
       "<style scoped>\n",
       "    .dataframe tbody tr th:only-of-type {\n",
       "        vertical-align: middle;\n",
       "    }\n",
       "\n",
       "    .dataframe tbody tr th {\n",
       "        vertical-align: top;\n",
       "    }\n",
       "\n",
       "    .dataframe thead th {\n",
       "        text-align: right;\n",
       "    }\n",
       "</style>\n",
       "<table border=\"1\" class=\"dataframe\">\n",
       "  <thead>\n",
       "    <tr style=\"text-align: right;\">\n",
       "      <th></th>\n",
       "      <th>season_id</th>\n",
       "      <th>competition_id</th>\n",
       "      <th>competition_name</th>\n",
       "      <th>country_name</th>\n",
       "      <th>competition_gender</th>\n",
       "      <th>season_name</th>\n",
       "    </tr>\n",
       "  </thead>\n",
       "  <tbody>\n",
       "    <tr>\n",
       "      <th>27</th>\n",
       "      <td>3</td>\n",
       "      <td>43</td>\n",
       "      <td>FIFA World Cup</td>\n",
       "      <td>International</td>\n",
       "      <td>male</td>\n",
       "      <td>2018</td>\n",
       "    </tr>\n",
       "  </tbody>\n",
       "</table>\n",
       "</div>"
      ],
      "text/plain": [
       "    season_id  competition_id competition_name   country_name  \\\n",
       "27          3              43   FIFA World Cup  International   \n",
       "\n",
       "   competition_gender season_name  \n",
       "27               male        2018  "
      ]
     },
     "execution_count": 5,
     "metadata": {},
     "output_type": "execute_result"
    }
   ],
   "source": [
    "# Fifa world cup\n",
    "selected_competitions = competitions[\n",
    "    (competitions.competition_name == \"FIFA World Cup\")\n",
    "    & (competitions.season_name == \"2018\")\n",
    "]\n",
    "\n",
    "# # Messi data\n",
    "# selected_competitions = competitions[competitions.competition_name == \"La Liga\"]\n",
    "\n",
    "# # FA Women's Super League\n",
    "# selected_competitions = competitions[competitions.competition_name == \"FA Women's Super League\"]\n",
    "\n",
    "selected_competitions"
   ]
  },
  {
   "cell_type": "code",
   "execution_count": 6,
   "metadata": {
    "execution": {
     "iopub.execute_input": "2023-12-30T16:21:01.654195Z",
     "iopub.status.busy": "2023-12-30T16:21:01.654007Z",
     "iopub.status.idle": "2023-12-30T16:21:02.051515Z",
     "shell.execute_reply": "2023-12-30T16:21:02.050411Z"
    },
    "scrolled": true
   },
   "outputs": [
    {
     "data": {
      "text/html": [
       "<div>\n",
       "<style scoped>\n",
       "    .dataframe tbody tr th:only-of-type {\n",
       "        vertical-align: middle;\n",
       "    }\n",
       "\n",
       "    .dataframe tbody tr th {\n",
       "        vertical-align: top;\n",
       "    }\n",
       "\n",
       "    .dataframe thead th {\n",
       "        text-align: right;\n",
       "    }\n",
       "</style>\n",
       "<table border=\"1\" class=\"dataframe\">\n",
       "  <thead>\n",
       "    <tr style=\"text-align: right;\">\n",
       "      <th></th>\n",
       "      <th>home_team_id</th>\n",
       "      <th>away_team_id</th>\n",
       "      <th>game_date</th>\n",
       "      <th>home_score</th>\n",
       "      <th>away_score</th>\n",
       "    </tr>\n",
       "  </thead>\n",
       "  <tbody>\n",
       "    <tr>\n",
       "      <th>0</th>\n",
       "      <td>769</td>\n",
       "      <td>768</td>\n",
       "      <td>2018-07-03 20:00:00</td>\n",
       "      <td>1</td>\n",
       "      <td>1</td>\n",
       "    </tr>\n",
       "    <tr>\n",
       "      <th>1</th>\n",
       "      <td>768</td>\n",
       "      <td>782</td>\n",
       "      <td>2018-06-28 20:00:00</td>\n",
       "      <td>0</td>\n",
       "      <td>1</td>\n",
       "    </tr>\n",
       "    <tr>\n",
       "      <th>2</th>\n",
       "      <td>790</td>\n",
       "      <td>773</td>\n",
       "      <td>2018-07-03 16:00:00</td>\n",
       "      <td>1</td>\n",
       "      <td>0</td>\n",
       "    </tr>\n",
       "    <tr>\n",
       "      <th>3</th>\n",
       "      <td>797</td>\n",
       "      <td>780</td>\n",
       "      <td>2018-06-25 20:00:00</td>\n",
       "      <td>1</td>\n",
       "      <td>1</td>\n",
       "    </tr>\n",
       "    <tr>\n",
       "      <th>4</th>\n",
       "      <td>780</td>\n",
       "      <td>788</td>\n",
       "      <td>2018-06-20 14:00:00</td>\n",
       "      <td>1</td>\n",
       "      <td>0</td>\n",
       "    </tr>\n",
       "    <tr>\n",
       "      <th>...</th>\n",
       "      <td>...</td>\n",
       "      <td>...</td>\n",
       "      <td>...</td>\n",
       "      <td>...</td>\n",
       "      <td>...</td>\n",
       "    </tr>\n",
       "    <tr>\n",
       "      <th>59</th>\n",
       "      <td>796</td>\n",
       "      <td>774</td>\n",
       "      <td>2018-06-19 20:00:00</td>\n",
       "      <td>3</td>\n",
       "      <td>1</td>\n",
       "    </tr>\n",
       "    <tr>\n",
       "      <th>60</th>\n",
       "      <td>796</td>\n",
       "      <td>785</td>\n",
       "      <td>2018-07-07 20:00:00</td>\n",
       "      <td>2</td>\n",
       "      <td>2</td>\n",
       "    </tr>\n",
       "    <tr>\n",
       "      <th>61</th>\n",
       "      <td>776</td>\n",
       "      <td>771</td>\n",
       "      <td>2018-06-26 16:00:00</td>\n",
       "      <td>0</td>\n",
       "      <td>0</td>\n",
       "    </tr>\n",
       "    <tr>\n",
       "      <th>62</th>\n",
       "      <td>778</td>\n",
       "      <td>787</td>\n",
       "      <td>2018-06-24 17:00:00</td>\n",
       "      <td>2</td>\n",
       "      <td>2</td>\n",
       "    </tr>\n",
       "    <tr>\n",
       "      <th>63</th>\n",
       "      <td>799</td>\n",
       "      <td>774</td>\n",
       "      <td>2018-06-25 16:00:00</td>\n",
       "      <td>2</td>\n",
       "      <td>1</td>\n",
       "    </tr>\n",
       "  </tbody>\n",
       "</table>\n",
       "<p>64 rows × 5 columns</p>\n",
       "</div>"
      ],
      "text/plain": [
       "    home_team_id  away_team_id           game_date  home_score  away_score\n",
       "0            769           768 2018-07-03 20:00:00           1           1\n",
       "1            768           782 2018-06-28 20:00:00           0           1\n",
       "2            790           773 2018-07-03 16:00:00           1           0\n",
       "3            797           780 2018-06-25 20:00:00           1           1\n",
       "4            780           788 2018-06-20 14:00:00           1           0\n",
       "..           ...           ...                 ...         ...         ...\n",
       "59           796           774 2018-06-19 20:00:00           3           1\n",
       "60           796           785 2018-07-07 20:00:00           2           2\n",
       "61           776           771 2018-06-26 16:00:00           0           0\n",
       "62           778           787 2018-06-24 17:00:00           2           2\n",
       "63           799           774 2018-06-25 16:00:00           2           1\n",
       "\n",
       "[64 rows x 5 columns]"
      ]
     },
     "execution_count": 6,
     "metadata": {},
     "output_type": "execute_result"
    }
   ],
   "source": [
    "# Get games from all selected competitions\n",
    "games = pd.concat([\n",
    "    SBL.games(row.competition_id, row.season_id)\n",
    "    for row in selected_competitions.itertuples()\n",
    "])\n",
    "games[[\"home_team_id\", \"away_team_id\", \"game_date\", \"home_score\", \"away_score\"]]"
   ]
  },
  {
   "cell_type": "markdown",
   "metadata": {},
   "source": [
    "## Load and convert match data"
   ]
  },
  {
   "cell_type": "code",
   "execution_count": 7,
   "metadata": {
    "execution": {
     "iopub.execute_input": "2023-12-30T16:21:02.055547Z",
     "iopub.status.busy": "2023-12-30T16:21:02.055305Z",
     "iopub.status.idle": "2023-12-30T16:22:43.544119Z",
     "shell.execute_reply": "2023-12-30T16:22:43.543385Z"
    }
   },
   "outputs": [
    {
     "name": "stderr",
     "output_type": "stream",
     "text": [
      "Loading game data: 100%|███████████████████████████████████████████████████████████████| 64/64 [01:41<00:00,  1.59s/it]\n"
     ]
    }
   ],
   "source": [
    "games_verbose = tqdm.tqdm(list(games.itertuples()), desc=\"Loading game data\")\n",
    "teams, players = [], []\n",
    "actions = {}\n",
    "for game in games_verbose:\n",
    "    # load data\n",
    "    teams.append(SBL.teams(game.game_id))\n",
    "    players.append(SBL.players(game.game_id))\n",
    "    events = SBL.events(game.game_id)\n",
    "    # convert data\n",
    "    actions[game.game_id] = spadl.statsbomb.convert_to_actions(\n",
    "        events, \n",
    "        home_team_id=game.home_team_id,\n",
    "        xy_fidelity_version=1,\n",
    "        shot_fidelity_version=1\n",
    "    )\n",
    "\n",
    "teams = pd.concat(teams).drop_duplicates(subset=\"team_id\")\n",
    "players = pd.concat(players)"
   ]
  },
  {
   "cell_type": "markdown",
   "metadata": {},
   "source": [
    "## Store converted spadl data in a h5-file"
   ]
  },
  {
   "cell_type": "code",
   "execution_count": 8,
   "metadata": {
    "execution": {
     "iopub.execute_input": "2023-12-30T16:22:43.546172Z",
     "iopub.status.busy": "2023-12-30T16:22:43.546009Z",
     "iopub.status.idle": "2023-12-30T16:22:47.205413Z",
     "shell.execute_reply": "2023-12-30T16:22:47.204805Z"
    },
    "scrolled": true
   },
   "outputs": [],
   "source": [
    "datafolder = \"../data-fifa\"\n",
    "\n",
    "# Create data folder if it doesn't exist\n",
    "if not os.path.exists(datafolder):\n",
    "    os.mkdir(datafolder)\n",
    "    print(f\"Directory {datafolder} created.\")\n",
    "\n",
    "spadl_h5 = os.path.join(datafolder, \"spadl-statsbomb.h5\")\n",
    "\n",
    "# Store all spadl data in h5-file\n",
    "with pd.HDFStore(spadl_h5) as spadlstore:\n",
    "    spadlstore[\"competitions\"] = selected_competitions\n",
    "    spadlstore[\"games\"] = games\n",
    "    spadlstore[\"teams\"] = teams\n",
    "    spadlstore[\"players\"] = players[['player_id', 'player_name', 'nickname']].drop_duplicates(subset='player_id')\n",
    "    spadlstore[\"player_games\"] = players[['player_id', 'game_id', 'team_id', 'is_starter', 'starting_position_id', 'starting_position_name', 'minutes_played']]\n",
    "    for game_id in actions.keys():\n",
    "        spadlstore[f\"actions/game_{game_id}\"] = actions[game_id]"
   ]
  },
  {
   "cell_type": "markdown",
   "metadata": {},
   "source": [
    "## Plot the spadl data\n",
    "Extra library required: ```pip install matplotsoccer```"
   ]
  },
  {
   "cell_type": "code",
   "execution_count": 9,
   "metadata": {
    "execution": {
     "iopub.execute_input": "2023-12-30T16:22:47.208063Z",
     "iopub.status.busy": "2023-12-30T16:22:47.207632Z",
     "iopub.status.idle": "2023-12-30T16:22:47.497108Z",
     "shell.execute_reply": "2023-12-30T16:22:47.496574Z"
    }
   },
   "outputs": [
    {
     "data": {
      "text/html": [
       "<div>\n",
       "<style scoped>\n",
       "    .dataframe tbody tr th:only-of-type {\n",
       "        vertical-align: middle;\n",
       "    }\n",
       "\n",
       "    .dataframe tbody tr th {\n",
       "        vertical-align: top;\n",
       "    }\n",
       "\n",
       "    .dataframe thead th {\n",
       "        text-align: right;\n",
       "    }\n",
       "</style>\n",
       "<table border=\"1\" class=\"dataframe\">\n",
       "  <thead>\n",
       "    <tr style=\"text-align: right;\">\n",
       "      <th></th>\n",
       "      <th>game_id</th>\n",
       "      <th>original_event_id</th>\n",
       "      <th>period_id</th>\n",
       "      <th>time_seconds</th>\n",
       "      <th>team_id</th>\n",
       "      <th>player_id</th>\n",
       "      <th>start_x</th>\n",
       "      <th>start_y</th>\n",
       "      <th>end_x</th>\n",
       "      <th>end_y</th>\n",
       "      <th>type_id</th>\n",
       "      <th>result_id</th>\n",
       "      <th>bodypart_id</th>\n",
       "      <th>action_id</th>\n",
       "      <th>type_name</th>\n",
       "      <th>result_name</th>\n",
       "      <th>bodypart_name</th>\n",
       "      <th>player_name</th>\n",
       "      <th>team_name</th>\n",
       "    </tr>\n",
       "  </thead>\n",
       "  <tbody>\n",
       "    <tr>\n",
       "      <th>0</th>\n",
       "      <td>8657</td>\n",
       "      <td>84438495-6341-4eba-bf90-82db1f6703fb</td>\n",
       "      <td>1</td>\n",
       "      <td>0.533</td>\n",
       "      <td>782</td>\n",
       "      <td>3289.0</td>\n",
       "      <td>52.9375</td>\n",
       "      <td>33.575</td>\n",
       "      <td>44.1875</td>\n",
       "      <td>33.575</td>\n",
       "      <td>0</td>\n",
       "      <td>1</td>\n",
       "      <td>5</td>\n",
       "      <td>0</td>\n",
       "      <td>pass</td>\n",
       "      <td>success</td>\n",
       "      <td>foot_right</td>\n",
       "      <td>Romelu Lukaku</td>\n",
       "      <td>Belgium</td>\n",
       "    </tr>\n",
       "    <tr>\n",
       "      <th>1</th>\n",
       "      <td>8657</td>\n",
       "      <td>6f02abb4-0b81-4531-be11-6bf6ea7e695b</td>\n",
       "      <td>1</td>\n",
       "      <td>1.252</td>\n",
       "      <td>782</td>\n",
       "      <td>5642.0</td>\n",
       "      <td>44.1875</td>\n",
       "      <td>33.575</td>\n",
       "      <td>44.1875</td>\n",
       "      <td>34.425</td>\n",
       "      <td>21</td>\n",
       "      <td>1</td>\n",
       "      <td>0</td>\n",
       "      <td>1</td>\n",
       "      <td>dribble</td>\n",
       "      <td>success</td>\n",
       "      <td>foot</td>\n",
       "      <td>Axel Witsel</td>\n",
       "      <td>Belgium</td>\n",
       "    </tr>\n",
       "    <tr>\n",
       "      <th>2</th>\n",
       "      <td>8657</td>\n",
       "      <td>34b355a6-8b5f-4954-8dfd-fcc77df5c40c</td>\n",
       "      <td>1</td>\n",
       "      <td>2.133</td>\n",
       "      <td>782</td>\n",
       "      <td>5642.0</td>\n",
       "      <td>44.1875</td>\n",
       "      <td>34.425</td>\n",
       "      <td>31.9375</td>\n",
       "      <td>53.125</td>\n",
       "      <td>0</td>\n",
       "      <td>1</td>\n",
       "      <td>5</td>\n",
       "      <td>2</td>\n",
       "      <td>pass</td>\n",
       "      <td>success</td>\n",
       "      <td>foot_right</td>\n",
       "      <td>Axel Witsel</td>\n",
       "      <td>Belgium</td>\n",
       "    </tr>\n",
       "    <tr>\n",
       "      <th>3</th>\n",
       "      <td>8657</td>\n",
       "      <td>29b70f75-5970-491c-acc7-5dbfb353200c</td>\n",
       "      <td>1</td>\n",
       "      <td>3.732</td>\n",
       "      <td>782</td>\n",
       "      <td>3077.0</td>\n",
       "      <td>31.9375</td>\n",
       "      <td>53.125</td>\n",
       "      <td>28.4375</td>\n",
       "      <td>53.125</td>\n",
       "      <td>21</td>\n",
       "      <td>1</td>\n",
       "      <td>0</td>\n",
       "      <td>3</td>\n",
       "      <td>dribble</td>\n",
       "      <td>success</td>\n",
       "      <td>foot</td>\n",
       "      <td>Jan Vertonghen</td>\n",
       "      <td>Belgium</td>\n",
       "    </tr>\n",
       "    <tr>\n",
       "      <th>4</th>\n",
       "      <td>8657</td>\n",
       "      <td>8fd1ffd0-b984-4823-ab2c-f249c04adc12</td>\n",
       "      <td>1</td>\n",
       "      <td>4.933</td>\n",
       "      <td>782</td>\n",
       "      <td>3077.0</td>\n",
       "      <td>28.4375</td>\n",
       "      <td>53.125</td>\n",
       "      <td>24.0625</td>\n",
       "      <td>38.675</td>\n",
       "      <td>0</td>\n",
       "      <td>1</td>\n",
       "      <td>4</td>\n",
       "      <td>4</td>\n",
       "      <td>pass</td>\n",
       "      <td>success</td>\n",
       "      <td>foot_left</td>\n",
       "      <td>Jan Vertonghen</td>\n",
       "      <td>Belgium</td>\n",
       "    </tr>\n",
       "  </tbody>\n",
       "</table>\n",
       "</div>"
      ],
      "text/plain": [
       "   game_id                     original_event_id  period_id  time_seconds  \\\n",
       "0     8657  84438495-6341-4eba-bf90-82db1f6703fb          1         0.533   \n",
       "1     8657  6f02abb4-0b81-4531-be11-6bf6ea7e695b          1         1.252   \n",
       "2     8657  34b355a6-8b5f-4954-8dfd-fcc77df5c40c          1         2.133   \n",
       "3     8657  29b70f75-5970-491c-acc7-5dbfb353200c          1         3.732   \n",
       "4     8657  8fd1ffd0-b984-4823-ab2c-f249c04adc12          1         4.933   \n",
       "\n",
       "   team_id  player_id  start_x  start_y    end_x   end_y  type_id  result_id  \\\n",
       "0      782     3289.0  52.9375   33.575  44.1875  33.575        0          1   \n",
       "1      782     5642.0  44.1875   33.575  44.1875  34.425       21          1   \n",
       "2      782     5642.0  44.1875   34.425  31.9375  53.125        0          1   \n",
       "3      782     3077.0  31.9375   53.125  28.4375  53.125       21          1   \n",
       "4      782     3077.0  28.4375   53.125  24.0625  38.675        0          1   \n",
       "\n",
       "   bodypart_id  action_id type_name result_name bodypart_name     player_name  \\\n",
       "0            5          0      pass     success    foot_right   Romelu Lukaku   \n",
       "1            0          1   dribble     success          foot     Axel Witsel   \n",
       "2            5          2      pass     success    foot_right     Axel Witsel   \n",
       "3            0          3   dribble     success          foot  Jan Vertonghen   \n",
       "4            4          4      pass     success     foot_left  Jan Vertonghen   \n",
       "\n",
       "  team_name  \n",
       "0   Belgium  \n",
       "1   Belgium  \n",
       "2   Belgium  \n",
       "3   Belgium  \n",
       "4   Belgium  "
      ]
     },
     "execution_count": 9,
     "metadata": {},
     "output_type": "execute_result"
    }
   ],
   "source": [
    "with pd.HDFStore(spadl_h5) as spadlstore:\n",
    "    games = (\n",
    "        spadlstore[\"games\"]\n",
    "        .merge(spadlstore[\"competitions\"], how='left')\n",
    "        .merge(spadlstore[\"teams\"].add_prefix('home_'), how='left')\n",
    "        .merge(spadlstore[\"teams\"].add_prefix('away_'), how='left'))\n",
    "    # Select England vs Belgium game at World Cup\n",
    "    game = games[(games.competition_name == \"FIFA World Cup\") \n",
    "                  & (games.away_team_name == \"England\")\n",
    "                  & (games.home_team_name == \"Belgium\")]\n",
    "    game_id = game.game_id.values[0]\n",
    "    actions = (\n",
    "        spadlstore[f\"actions/game_{game_id}\"]\n",
    "        .merge(spadl.actiontypes_df(), how=\"left\")\n",
    "        .merge(spadl.results_df(), how=\"left\")\n",
    "        .merge(spadl.bodyparts_df(), how=\"left\")\n",
    "        .merge(spadlstore[\"players\"], how=\"left\")\n",
    "        .merge(spadlstore[\"teams\"], how=\"left\")\n",
    "    )\n",
    "\n",
    "# use nickname if available else use full name\n",
    "actions[\"player_name\"] = actions[[\"nickname\", \"player_name\"]].apply(lambda x: x.iloc[0] if x.iloc[0] else x.iloc[1], axis=1)\n",
    "del actions['nickname']\n",
    "actions[:5]"
   ]
  },
  {
   "cell_type": "code",
   "execution_count": 10,
   "metadata": {
    "execution": {
     "iopub.execute_input": "2023-12-30T16:22:47.499053Z",
     "iopub.status.busy": "2023-12-30T16:22:47.498850Z",
     "iopub.status.idle": "2023-12-30T16:22:48.255428Z",
     "shell.execute_reply": "2023-12-30T16:22:48.254674Z"
    }
   },
   "outputs": [
    {
     "name": "stdout",
     "output_type": "stream",
     "text": [
      "2018-07-14 16:00:00 Belgium 2-0 England 82'\n"
     ]
    },
    {
     "data": {
      "image/png": "[encoded data removed]",
      "text/plain": [
       "<Figure size 600x450 with 1 Axes>"
      ]
     },
     "metadata": {},
     "output_type": "display_data"
    }
   ],
   "source": [
    "import matplotsoccer\n",
    "\n",
    "# Select the 5 actions preceding the 2-0\n",
    "shot = 2201\n",
    "a = actions[shot-4:shot+1].copy()\n",
    "\n",
    "# Print the game date and timestamp of the goal\n",
    "g = game.iloc[0]\n",
    "minute = int((a.period_id.values[0]-1) * 45 + a.time_seconds.values[0] // 60)\n",
    "game_info = f\"{g.game_date} {g.home_team_name} {g.home_score}-{g.away_score} {g.away_team_name} {minute + 1}'\"\n",
    "print(game_info)\n",
    "\n",
    "# Plot the actions\n",
    "def nice_time(row):\n",
    "    minute = int((row.period_id-1)*45 +row.time_seconds // 60)\n",
    "    second = int(row.time_seconds % 60)\n",
    "    return f\"{minute}m{second}s\"\n",
    "\n",
    "a[\"nice_time\"] = a.apply(nice_time, axis=1)\n",
    "labels = a[[\"nice_time\", \"type_name\", \"player_name\", \"team_name\"]]\n",
    "\n",
    "ax = matplotsoccer.actions(\n",
    "    location=a[[\"start_x\", \"start_y\", \"end_x\", \"end_y\"]],\n",
    "    action_type=a.type_name,\n",
    "    team= a.team_name,\n",
    "    result= a.result_name == \"success\",\n",
    "    label=labels,\n",
    "    labeltitle=[\"time\", \"actiontype\", \"player\", \"team\"],\n",
    "    zoom=False,\n",
    "    figsize=6\n",
    ")"
   ]
  },
  {
   "cell_type": "code",
   "execution_count": null,
   "metadata": {},
   "outputs": [],
   "source": []
  }
 ],
 "metadata": {
  "kernelspec": {
   "display_name": "socceraction",
   "language": "python",
   "name": "socceraction"
  },
  "language_info": {
   "codemirror_mode": {
    "name": "ipython",
    "version": 3
   },
   "file_extension": ".py",
   "mimetype": "text/x-python",
   "name": "python",
   "nbconvert_exporter": "python",
   "pygments_lexer": "ipython3",
   "version": "3.11.1"
  },
  "toc": {
   "base_numbering": 1,
   "nav_menu": {},
   "number_sections": true,
   "sideBar": true,
   "skip_h1_title": false,
   "title_cell": "Table of Contents",
   "title_sidebar": "Contents",
   "toc_cell": false,
   "toc_position": {},
   "toc_section_display": true,
   "toc_window_display": true
  },
  "varInspector": {
   "cols": {
    "lenName": 16,
    "lenType": 16,
    "lenVar": 40
   },
   "kernels_config": {
    "python": {
     "delete_cmd_postfix": "",
     "delete_cmd_prefix": "del ",
     "library": "var_list.py",
     "varRefreshCmd": "print(var_dic_list())"
    },
    "r": {
     "delete_cmd_postfix": ") ",
     "delete_cmd_prefix": "rm(",
     "library": "var_list.r",
     "varRefreshCmd": "cat(var_dic_list()) "
    }
   },
   "types_to_exclude": [
    "module",
    "function",
    "builtin_function_or_method",
    "instance",
    "_Feature"
   ],
   "window_display": false
  }
 },
 "nbformat": 4,
 "nbformat_minor": 4
}
